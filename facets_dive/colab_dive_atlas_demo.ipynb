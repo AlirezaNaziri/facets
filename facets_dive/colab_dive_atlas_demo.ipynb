{
  "nbformat": 4,
  "nbformat_minor": 0,
  "metadata": {
    "colab": {
      "name": "colab_dive_atlas_demo.ipynb",
      "provenance": [],
      "collapsed_sections": []
    },
    "kernelspec": {
      "name": "python3",
      "display_name": "Python 3"
    }
  },
  "cells": [
    {
      "cell_type": "code",
      "metadata": {
        "id": "uzuyKzjxRdpp"
      },
      "source": [
        "# Display the Dive visualization using atlas and base64 image url.\n",
        "\n",
        "import base64\n",
        "import urllib.request\n",
        "import os\n",
        "import pandas as pd\n",
        "\n",
        "#Download atlas image\n",
        "img_url = \"https://raw.githubusercontent.com/jsiddique/facets_example/master/sprite_atlas.png\"\n",
        "img_name = os.path.basename(img_url)\n",
        "urllib.request.urlretrieve(img_url,img_name)\n",
        "\n",
        "#download metadata in a dataframe\n",
        "df_fmnist = pd.read_csv(\"https://raw.githubusercontent.com/jsiddique/facets_example/master/fmnist.csv\")\n",
        "\n",
        "#read atlas image and convert into base64 string\n",
        "with open(\"sprite_atlas.png\", \"rb\") as image_file:\n",
        "    encoded_string = base64.b64encode(image_file.read())\n",
        "\n",
        "from IPython.core.display import display, HTML\n",
        "\n",
        "jsonstr = df_fmnist.to_json(orient='records')\n",
        "HTML_TEMPLATE = \"\"\"\n",
        "        <script src=\"https://cdnjs.cloudflare.com/ajax/libs/webcomponentsjs/1.3.3/webcomponents-lite.js\"></script>\n",
        "        <link rel=\"import\" href=\"https://raw.githubusercontent.com/PAIR-code/facets/1.0.0/facets-dist/facets-jupyter.html\">      \n",
        "        <facets-dive id=\"elem\" height=\"1000\" sprite-image-width=\"28\" sprite-image-height=\"28\" atlas-url=\"data:image/png;base64,{encoded_string}\" cross-origin=\"anonymous\"></facets-dive>\n",
        "       \n",
        "        <script>\n",
        "          var data = {jsonstr};\n",
        "          document.querySelector(\"#elem\").data = data;\n",
        "        </script>\"\"\"\n",
        "html = HTML_TEMPLATE.format(jsonstr=jsonstr, encoded_string=encoded_string.decode(\"utf-8\"))\n",
        "display(HTML(html))"
      ],
      "execution_count": null,
      "outputs": []
    },
    {
      "cell_type": "code",
      "metadata": {
        "id": "Ck1Dcat_pnv5"
      },
      "source": [
        ""
      ],
      "execution_count": null,
      "outputs": []
    }
  ]
}